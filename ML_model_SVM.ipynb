{
  "nbformat": 4,
  "nbformat_minor": 0,
  "metadata": {
    "colab": {
      "name": "ML_model_SVM.ipynb",
      "provenance": [],
      "collapsed_sections": []
    },
    "kernelspec": {
      "name": "python3",
      "display_name": "Python 3"
    }
  },
  "cells": [
    {
      "cell_type": "code",
      "metadata": {
        "id": "TlcjpZ-Sm0Zt"
      },
      "source": [
        "#importing Libraries\r\n",
        "import pandas as pd\r\n",
        "import joblib\r\n",
        "#Reading file\r\n",
        "df =pd.read_csv('heart.csv.csv')\r\n",
        "print(df)\r\n",
        "#Defining Inputs\r\n",
        "x_feature_input = df.iloc[:,:-1]\r\n",
        "print(x_feature_input)\r\n",
        "#output\r\n",
        "y_label_output =df.iloc[:,8]\r\n",
        "print(y_label_output)\r\n",
        "#importing model\r\n",
        "from sklearn.model_selection import train_test_split\r\n",
        "x_train, x_test, y_train, y_test = train_test_split(x_feature_input,y_label_output, test_size=0.20, random_state=5)\r\n",
        "from sklearn.svm import SVC\r\n",
        "clf = SVC(kernel='linear')\r\n",
        "#training model\r\n",
        "clf.fit(x_train,y_train)\r\n",
        "#taking prediction\r\n",
        "y_pred = clf.predict(x_test)\r\n",
        "#saving file\r\n",
        "filename = 'heart.csv'\r\n",
        "joblib.dump(clf, 'heart.csv')\r\n",
        "#loading file\r\n",
        "loaded_model = joblib.load('heart.csv')\r\n",
        "from sklearn.metrics import accuracy_score\r\n",
        "print('Accuracy Score:', accuracy_score(y_test,y_pred))\r\n",
        "#taking inputs from user\r\n",
        "age = int(input('Enter Age:'))\r\n",
        "Gender = int(input('Enter Gender:'))\r\n",
        "CP = int(input('Enter Chest pain type:'))\r\n",
        "TrestPB = int(input('Enter Resting Blood Pressure:'))\r\n",
        "Cholestrol = int(input('Enter Cholestrol:'))\r\n",
        "FBS = int(input('Enter Fasting Blood Sugar:'))\r\n",
        "thal = int(input('Enter Max. Heart Rate:'))\r\n",
        "Angina = int(input('Enter Angina:'))\r\n",
        "#predicting and printing results\r\n",
        "output = loaded_model.predict([[age,Gender,CP, TrestPB,Cholestrol,FBS,thal,Angina]])\r\n",
        "print(output)"
      ],
      "execution_count": null,
      "outputs": []
    }
  ]
}